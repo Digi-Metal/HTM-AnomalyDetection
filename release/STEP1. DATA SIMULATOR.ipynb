{
 "cells": [
  {
   "cell_type": "code",
   "execution_count": null,
   "metadata": {},
   "outputs": [],
   "source": [
    "import numpy as np\n",
    "import time\n",
    "import datetime"
   ]
  },
  {
   "cell_type": "code",
   "execution_count": null,
   "metadata": {},
   "outputs": [],
   "source": [
    "def data_generator():\n",
    "    x1 = np.random.uniform(0, 15)\n",
    "    x2 = np.random.uniform(0, 15)\n",
    "    return x1, x2\n",
    "\n",
    "def count_rows(filepath):\n",
    "    count = -1\n",
    "    for count, line in enumerate(open(filepath, 'r')):\n",
    "        pass\n",
    "    count += 1\n",
    "    return count\n",
    "\n",
    "def write_to_file(data, filepath):\n",
    "    f = open(filepath, \"a\")\n",
    "    f.write(data)\n",
    "    f.close()\n",
    "\n",
    "def time_arithmetic(date):\n",
    "    delta = datetime.timedelta(hours=1)\n",
    "    out_date = date + delta\n",
    "    return out_date"
   ]
  },
  {
   "cell_type": "code",
   "execution_count": null,
   "metadata": {},
   "outputs": [],
   "source": [
    "date = datetime.datetime.strptime('2019-09-09 00:00:00', '%Y-%m-%d %H:%M:%S')\n",
    "filepath1 = './datacache01'\n",
    "filepath2 = './datacache02'\n",
    "\n",
    "while(1):\n",
    "    data1, data2 = data_generator()\n",
    "    date = time_arithmetic(date)\n",
    "    data_to_file1 = str(date) + ', ' + str(data1) + '\\n'\n",
    "    data_to_file2 = str(date) + ', ' + str(data2) + '\\n'\n",
    "    write_to_file(data_to_file1, filepath1)\n",
    "    write_to_file(data_to_file2, filepath2)\n",
    "    time.sleep(2)"
   ]
  },
  {
   "cell_type": "code",
   "execution_count": null,
   "metadata": {},
   "outputs": [],
   "source": []
  }
 ],
 "metadata": {
  "kernelspec": {
   "display_name": "Python 2",
   "language": "python",
   "name": "python2"
  },
  "language_info": {
   "codemirror_mode": {
    "name": "ipython",
    "version": 2
   },
   "file_extension": ".py",
   "mimetype": "text/x-python",
   "name": "python",
   "nbconvert_exporter": "python",
   "pygments_lexer": "ipython2",
   "version": "2.7.16"
  }
 },
 "nbformat": 4,
 "nbformat_minor": 2
}
