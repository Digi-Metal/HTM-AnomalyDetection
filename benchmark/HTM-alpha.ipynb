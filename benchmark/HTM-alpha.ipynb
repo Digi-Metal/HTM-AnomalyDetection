{
 "cells": [
  {
   "cell_type": "code",
   "execution_count": 1,
   "metadata": {},
   "outputs": [],
   "source": [
    "import csv\n",
    "import datetime\n",
    "import os\n",
    "import yaml\n",
    "from itertools import islice\n",
    "from nupic.frameworks.opf.model_factory import ModelFactory"
   ]
  },
  {
   "cell_type": "code",
   "execution_count": 2,
   "metadata": {},
   "outputs": [],
   "source": [
    "_NUM_RECORDS = 4300\n",
    "_INPUT_FILE_PATH = './data/pepa_acc.csv'\n",
    "_PARAMS_PATH = './params/model.yaml'"
   ]
  },
  {
   "cell_type": "code",
   "execution_count": 12,
   "metadata": {},
   "outputs": [],
   "source": [
    "def createModel():\n",
    "    with open(_PARAMS_PATH, \"r\") as f:\n",
    "        modelParams = yaml.safe_load(f)\n",
    "    return ModelFactory.create(modelParams)\n",
    "\n",
    "def runHotgym(numRecords):\n",
    "    model = createModel()\n",
    "    model.enableInference({\"predictedField\": \"pepa_acc_x\"})\n",
    "    with open(_INPUT_FILE_PATH) as fin:\n",
    "        reader = csv.reader(fin)\n",
    "        headers = reader.next()  # skip the header\n",
    "        reader.next()\n",
    "        reader.next()\n",
    "\n",
    "        results = []\n",
    "        for record in islice(reader, numRecords):\n",
    "            modelInput = dict(zip(headers, record))\n",
    "            modelInput[\"pepa_acc_x\"] = float(modelInput[\"pepa_acc_x\"])\n",
    "            modelInput[\"pepa_acc_y\"] = float(modelInput[\"pepa_acc_y\"])\n",
    "            modelInput[\"pepa_acc_z\"] = float(modelInput[\"pepa_acc_z\"])\n",
    "            modelInput[\"timestamp\"] = datetime.datetime.strptime(modelInput[\"time\"], '%Y-%m-%d %H:%M:%S')\n",
    "            \n",
    "            result = model.run(modelInput)\n",
    "            \n",
    "            AnomalyScore = result.inferences['anomalyScore']\n",
    "            bestPredictions = result.inferences[\"multiStepBestPredictions\"]\n",
    "            fiveStep = bestPredictions[5]\n",
    "            result = (fiveStep, AnomalyScore)\n",
    "            print \"5-step: {:16} \\t anomaly score: {:16}\".format(*result)\n",
    "            results.append(result)\n",
    "        return results"
   ]
  },
  {
   "cell_type": "code",
   "execution_count": 13,
   "metadata": {},
   "outputs": [
    {
     "ename": "ValueError",
     "evalue": "No predicted field was enabled! Did you call enableInference()?",
     "output_type": "error",
     "traceback": [
      "\u001b[0;31m---------------------------------------------------------------------------\u001b[0m",
      "\u001b[0;31mValueError\u001b[0m                                Traceback (most recent call last)",
      "\u001b[0;32m<ipython-input-13-c7548819b37f>\u001b[0m in \u001b[0;36m<module>\u001b[0;34m()\u001b[0m\n\u001b[1;32m      1\u001b[0m \u001b[0;32mif\u001b[0m \u001b[0m__name__\u001b[0m \u001b[0;34m==\u001b[0m \u001b[0;34m\"__main__\"\u001b[0m\u001b[0;34m:\u001b[0m\u001b[0;34m\u001b[0m\u001b[0m\n\u001b[0;32m----> 2\u001b[0;31m     \u001b[0mrunHotgym\u001b[0m\u001b[0;34m(\u001b[0m\u001b[0m_NUM_RECORDS\u001b[0m\u001b[0;34m)\u001b[0m\u001b[0;34m\u001b[0m\u001b[0m\n\u001b[0m",
      "\u001b[0;32m<ipython-input-12-00254c647a66>\u001b[0m in \u001b[0;36mrunHotgym\u001b[0;34m(numRecords)\u001b[0m\n\u001b[1;32m     21\u001b[0m             \u001b[0mmodelInput\u001b[0m\u001b[0;34m[\u001b[0m\u001b[0;34m\"timestamp\"\u001b[0m\u001b[0;34m]\u001b[0m \u001b[0;34m=\u001b[0m \u001b[0mdatetime\u001b[0m\u001b[0;34m.\u001b[0m\u001b[0mdatetime\u001b[0m\u001b[0;34m.\u001b[0m\u001b[0mstrptime\u001b[0m\u001b[0;34m(\u001b[0m\u001b[0mmodelInput\u001b[0m\u001b[0;34m[\u001b[0m\u001b[0;34m\"time\"\u001b[0m\u001b[0;34m]\u001b[0m\u001b[0;34m,\u001b[0m \u001b[0;34m'%Y-%m-%d %H:%M:%S'\u001b[0m\u001b[0;34m)\u001b[0m\u001b[0;34m\u001b[0m\u001b[0m\n\u001b[1;32m     22\u001b[0m \u001b[0;34m\u001b[0m\u001b[0m\n\u001b[0;32m---> 23\u001b[0;31m             \u001b[0mresult\u001b[0m \u001b[0;34m=\u001b[0m \u001b[0mmodel\u001b[0m\u001b[0;34m.\u001b[0m\u001b[0mrun\u001b[0m\u001b[0;34m(\u001b[0m\u001b[0mmodelInput\u001b[0m\u001b[0;34m)\u001b[0m\u001b[0;34m\u001b[0m\u001b[0m\n\u001b[0m\u001b[1;32m     24\u001b[0m \u001b[0;34m\u001b[0m\u001b[0m\n\u001b[1;32m     25\u001b[0m             \u001b[0mAnomalyScore\u001b[0m \u001b[0;34m=\u001b[0m \u001b[0mresult\u001b[0m\u001b[0;34m.\u001b[0m\u001b[0minferences\u001b[0m\u001b[0;34m[\u001b[0m\u001b[0;34m'anomalyScore'\u001b[0m\u001b[0;34m]\u001b[0m\u001b[0;34m\u001b[0m\u001b[0m\n",
      "\u001b[0;32m/home/tpc2/anaconda3/envs/nupic/lib/python2.7/site-packages/nupic/frameworks/opf/htm_prediction_model.pyc\u001b[0m in \u001b[0;36mrun\u001b[0;34m(self, inputRecord)\u001b[0m\n\u001b[1;32m    446\u001b[0m       \u001b[0minferences\u001b[0m \u001b[0;34m=\u001b[0m \u001b[0mself\u001b[0m\u001b[0;34m.\u001b[0m\u001b[0m_reconstructionCompute\u001b[0m\u001b[0;34m(\u001b[0m\u001b[0;34m)\u001b[0m\u001b[0;34m\u001b[0m\u001b[0m\n\u001b[1;32m    447\u001b[0m     \u001b[0;32melif\u001b[0m \u001b[0mself\u001b[0m\u001b[0;34m.\u001b[0m\u001b[0m_isMultiStepModel\u001b[0m\u001b[0;34m(\u001b[0m\u001b[0;34m)\u001b[0m\u001b[0;34m:\u001b[0m\u001b[0;34m\u001b[0m\u001b[0m\n\u001b[0;32m--> 448\u001b[0;31m       \u001b[0minferences\u001b[0m \u001b[0;34m=\u001b[0m \u001b[0mself\u001b[0m\u001b[0;34m.\u001b[0m\u001b[0m_multiStepCompute\u001b[0m\u001b[0;34m(\u001b[0m\u001b[0mrawInput\u001b[0m\u001b[0;34m=\u001b[0m\u001b[0minputRecord\u001b[0m\u001b[0;34m)\u001b[0m\u001b[0;34m\u001b[0m\u001b[0m\n\u001b[0m\u001b[1;32m    449\u001b[0m     \u001b[0;31m# For temporal classification. Not used, and might not work anymore\u001b[0m\u001b[0;34m\u001b[0m\u001b[0;34m\u001b[0m\u001b[0m\n\u001b[1;32m    450\u001b[0m     \u001b[0;32melif\u001b[0m \u001b[0mself\u001b[0m\u001b[0;34m.\u001b[0m\u001b[0m_isClassificationModel\u001b[0m\u001b[0;34m(\u001b[0m\u001b[0;34m)\u001b[0m\u001b[0;34m:\u001b[0m\u001b[0;34m\u001b[0m\u001b[0m\n",
      "\u001b[0;32m/home/tpc2/anaconda3/envs/nupic/lib/python2.7/site-packages/nupic/frameworks/opf/htm_prediction_model.pyc\u001b[0m in \u001b[0;36m_multiStepCompute\u001b[0;34m(self, rawInput)\u001b[0m\n\u001b[1;32m    602\u001b[0m         \u001b[0mpatternNZ\u001b[0m\u001b[0;34m=\u001b[0m\u001b[0mpatternNZ\u001b[0m\u001b[0;34m,\u001b[0m\u001b[0;34m\u001b[0m\u001b[0m\n\u001b[1;32m    603\u001b[0m         \u001b[0minputTSRecordIdx\u001b[0m\u001b[0;34m=\u001b[0m\u001b[0minputTSRecordIdx\u001b[0m\u001b[0;34m,\u001b[0m\u001b[0;34m\u001b[0m\u001b[0m\n\u001b[0;32m--> 604\u001b[0;31m         rawInput=rawInput)\n\u001b[0m\u001b[1;32m    605\u001b[0m \u001b[0;34m\u001b[0m\u001b[0m\n\u001b[1;32m    606\u001b[0m \u001b[0;34m\u001b[0m\u001b[0m\n",
      "\u001b[0;32m/home/tpc2/anaconda3/envs/nupic/lib/python2.7/site-packages/nupic/frameworks/opf/htm_prediction_model.pyc\u001b[0m in \u001b[0;36m_handleSDRClassifierMultiStep\u001b[0;34m(self, patternNZ, inputTSRecordIdx, rawInput)\u001b[0m\n\u001b[1;32m    734\u001b[0m     \u001b[0;32mif\u001b[0m \u001b[0mpredictedFieldName\u001b[0m \u001b[0;32mis\u001b[0m \u001b[0mNone\u001b[0m\u001b[0;34m:\u001b[0m\u001b[0;34m\u001b[0m\u001b[0m\n\u001b[1;32m    735\u001b[0m       raise ValueError(\n\u001b[0;32m--> 736\u001b[0;31m         \u001b[0;34m\"No predicted field was enabled! Did you call enableInference()?\"\u001b[0m\u001b[0;34m\u001b[0m\u001b[0m\n\u001b[0m\u001b[1;32m    737\u001b[0m       )\n\u001b[1;32m    738\u001b[0m     \u001b[0mself\u001b[0m\u001b[0;34m.\u001b[0m\u001b[0m_predictedFieldName\u001b[0m \u001b[0;34m=\u001b[0m \u001b[0mpredictedFieldName\u001b[0m\u001b[0;34m\u001b[0m\u001b[0m\n",
      "\u001b[0;31mValueError\u001b[0m: No predicted field was enabled! Did you call enableInference()?"
     ]
    }
   ],
   "source": [
    "if __name__ == \"__main__\":\n",
    "    runHotgym(_NUM_RECORDS)"
   ]
  },
  {
   "cell_type": "code",
   "execution_count": null,
   "metadata": {},
   "outputs": [],
   "source": []
  }
 ],
 "metadata": {
  "kernelspec": {
   "display_name": "Python 2",
   "language": "python",
   "name": "python2"
  },
  "language_info": {
   "codemirror_mode": {
    "name": "ipython",
    "version": 2
   },
   "file_extension": ".py",
   "mimetype": "text/x-python",
   "name": "python",
   "nbconvert_exporter": "python",
   "pygments_lexer": "ipython2",
   "version": "2.7.16"
  }
 },
 "nbformat": 4,
 "nbformat_minor": 2
}
