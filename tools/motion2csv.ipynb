{
 "cells": [
  {
   "cell_type": "code",
   "execution_count": 1,
   "metadata": {},
   "outputs": [],
   "source": [
    "import os\n",
    "import numpy as np\n",
    "import json\n",
    "import time\n",
    "from datetime import datetime\n",
    "from interval import Interval\n",
    "import random\n",
    "from tqdm import tqdm\n",
    "import csv"
   ]
  },
  {
   "cell_type": "code",
   "execution_count": 2,
   "metadata": {},
   "outputs": [],
   "source": [
    "def CSVWriter(outputfile, row):\n",
    "    csvfile = open(outputfile, 'a+')\n",
    "    writer = csv.writer(csvfile)\n",
    "    writer.writerows(row)\n",
    "    csvfile.close()\n",
    "    \n",
    "def json_validator(data):\n",
    "    try:\n",
    "        json.load(data)\n",
    "        return True\n",
    "    except ValueError as error:\n",
    "        return False\n",
    "       \n",
    "def load_json(file):\n",
    "    PEPA_acc = []\n",
    "    PEPA_qua = []\n",
    "    SALT_acc = []\n",
    "    SALT_qua = []\n",
    "    f = open(file, 'r')\n",
    "    if json_validator(f):\n",
    "        f = open(file, 'r')\n",
    "        load_dict = json.load(f)\n",
    "        json_list = load_dict[\"data\"]\n",
    "        json_list = [i for i in json_list if i[\"event\"][\"variable\"] != \"NGIMU-PEPA.battery\" and i[\"event\"][\"variable\"] != \"NGIMU-SALT.battery\"]  # drop battery event\n",
    "        for item in json_list:\n",
    "            if item[\"event\"][\"variable\"] == \"NGIMU-PEPA.acceleration\":\n",
    "                value = item[\"event\"][\"content\"]\n",
    "                del value[-1]\n",
    "                value.append(datetime.fromtimestamp(float(item[\"timestamp\"])//float(1000)).strftime('%Y-%m-%d %H:%M:%S'))\n",
    "                PEPA_acc.append(value)\n",
    "            elif item[\"event\"][\"variable\"] == \"NGIMU-PEPA.quaternion\":\n",
    "                value = item[\"event\"][\"content\"]\n",
    "                del value[-1]\n",
    "                value.append(datetime.fromtimestamp(float(item[\"timestamp\"])//float(1000)).strftime('%Y-%m-%d %H:%M:%S'))\n",
    "                PEPA_qua.append(value)\n",
    "            elif item[\"event\"][\"variable\"] == \"NGIMU-SALT.acceleration\":\n",
    "                value = item[\"event\"][\"content\"]\n",
    "                del value[-1]\n",
    "                value.append(datetime.fromtimestamp(float(item[\"timestamp\"])//float(1000)).strftime('%Y-%m-%d %H:%M:%S'))\n",
    "                SALT_acc.append(value)\n",
    "            elif item[\"event\"][\"variable\"] == \"NGIMU-SALT.quaternion\":\n",
    "                value = item[\"event\"][\"content\"]\n",
    "                del value[-1]\n",
    "                value.append(datetime.fromtimestamp(float(item[\"timestamp\"])//float(1000)).strftime('%Y-%m-%d %H:%M:%S'))\n",
    "                SALT_qua.append(value) \n",
    "        return PEPA_acc, PEPA_qua, SALT_acc, SALT_qua\n",
    "    return [0],[0],[0],[0]"
   ]
  },
  {
   "cell_type": "code",
   "execution_count": 3,
   "metadata": {},
   "outputs": [
    {
     "name": "stderr",
     "output_type": "stream",
     "text": [
      "100%|██████████| 1024/1024 [5:34:03<00:00, 21.69s/it] \n"
     ]
    }
   ],
   "source": [
    "srcDir = '/media/tpc2/Elements/Lance'\n",
    "save_to_file1 = '/media/tpc2/DATA/ProcessedLanceData/pepa_acc.csv'\n",
    "save_to_file2 = '/media/tpc2/DATA/ProcessedLanceData/pepa_qua.csv'\n",
    "save_to_file3 = '/media/tpc2/DATA/ProcessedLanceData/salt_acc.csv'\n",
    "save_to_file4 = '/media/tpc2/DATA/ProcessedLanceData/salt_qua.csv'\n",
    "\n",
    "filelist = os.listdir(srcDir)\n",
    "for i in tqdm(range(0, len(filelist))):\n",
    "    filepath = os.path.join(srcDir, filelist[i])\n",
    "    PEPA_acc, PEPA_qua, SALT_acc, SALT_qua = load_json(filepath)\n",
    "    if PEPA_acc != [0]:\n",
    "        CSVWriter(save_to_file1, PEPA_acc)\n",
    "        CSVWriter(save_to_file2, PEPA_qua)\n",
    "        CSVWriter(save_to_file3, SALT_acc)\n",
    "        CSVWriter(save_to_file4, SALT_qua)\n",
    "\n",
    "# print PEPA_acc,'\\n'\n",
    "# print PEPA_qua,'\\n'\n",
    "# print SALT_acc,'\\n'\n",
    "# print SALT_qua"
   ]
  },
  {
   "cell_type": "code",
   "execution_count": null,
   "metadata": {},
   "outputs": [],
   "source": []
  }
 ],
 "metadata": {
  "kernelspec": {
   "display_name": "Python 2",
   "language": "python",
   "name": "python2"
  },
  "language_info": {
   "codemirror_mode": {
    "name": "ipython",
    "version": 2
   },
   "file_extension": ".py",
   "mimetype": "text/x-python",
   "name": "python",
   "nbconvert_exporter": "python",
   "pygments_lexer": "ipython2",
   "version": "2.7.16"
  }
 },
 "nbformat": 4,
 "nbformat_minor": 2
}
