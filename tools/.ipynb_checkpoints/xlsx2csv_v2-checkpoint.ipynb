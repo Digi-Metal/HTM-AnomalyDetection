{
 "cells": [
  {
   "cell_type": "code",
   "execution_count": 1,
   "metadata": {},
   "outputs": [],
   "source": [
    "import xlrd\n",
    "import csv\n",
    "import time\n",
    "from datetime import datetime"
   ]
  },
  {
   "cell_type": "code",
   "execution_count": 2,
   "metadata": {},
   "outputs": [],
   "source": [
    "file = '/media/tpc2/DATA/chemical_data/2nd round/copy.xlsx'\n",
    "\n",
    "def read_excel(file):\n",
    "    wb = xlrd.open_workbook(filename=file) # open this file\n",
    "    sheet1 = wb.sheet_by_name('Sheet1')\n",
    "    sheet1_nrows = sheet1.nrows\n",
    "    sheet1_rows = []\n",
    "    header = sheet1.row_values(1)\n",
    "    sheet1_rows.append(header)\n",
    "    for i in range(4, sheet1_nrows):      \n",
    "        row = sheet1.row_values(i)\n",
    "        sheet1_rows.append(row)       \n",
    "    return sheet1_rows\n",
    "\n",
    "\n",
    "def timestamp_transfer(timestamp):\n",
    "    date_string = timestamp\n",
    "    date_time = datetime.strptime(date_string, '%Y-%m-%d %H:%M:%S')\n",
    "    return date_time.strftime('%Y-%m-%d %H:%M:%S')\n",
    "\n",
    "def input_output_spliter(sheet_rows):\n",
    "    input_variables = []\n",
    "    output_variables = []\n",
    "    \n",
    "    output_header = sheet_rows[0][2:17]\n",
    "    output_header.append('Time') # add timestamp\n",
    "    output_header.extend(sheet_rows[0][28:32]) # add label\n",
    "    \n",
    "    input_header = sheet_rows[0][18:24]\n",
    "    input_header.append('Time')\n",
    "    input_header.extend(sheet_rows[0][28:32])\n",
    "    \n",
    "    output_data_types = ['float', 'float', 'float', 'float', 'float', 'float', 'float',\n",
    "                         'float', 'float', 'float', 'float', 'float', 'float', 'float', \n",
    "                         'float', 'datetime', 'int', 'int', 'int', 'int']\n",
    "    output_tag = ['', '', '', '', '', '', '', '', '', '', '', '', '', '', '', 'T', '', '', '', '']\n",
    "    input_data_types = ['float', 'float', 'float', 'float', 'float', 'float', \n",
    "                        'datetime', 'int', 'int', 'int', 'int']\n",
    "    iutput_tag = ['', '', '', '', '', '', 'T', '', '', '', '']\n",
    "    \n",
    "    output_variables.append(output_header)\n",
    "    input_variables.append(input_header)\n",
    "    output_variables.append(output_data_types)\n",
    "    output_variables.append(output_tag)\n",
    "    input_variables.append(input_data_types)\n",
    "    input_variables.append(iutput_tag)\n",
    "    \n",
    "    for i in range(1, len(sheet_rows)):\n",
    "        row = sheet_rows[i]\n",
    "        outputv = row[2:17]\n",
    "        inputv = row[18:24]\n",
    "        timestamp = row[0]\n",
    "        timestamp = timestamp_transfer(timestamp)\n",
    "        label1 = [int(row[28])]\n",
    "        label2 = [int(row[29])]\n",
    "        label3 = [int(row[30])]\n",
    "        label4 = [int(row[31])]\n",
    "        outputv.append(timestamp)\n",
    "        outputv.extend(label1)\n",
    "        outputv.extend(label2)\n",
    "        outputv.extend(label3)\n",
    "        outputv.extend(label4)\n",
    "        inputv.append(timestamp)\n",
    "        inputv.extend(label1)\n",
    "        inputv.extend(label2) \n",
    "        inputv.extend(label3) \n",
    "        inputv.extend(label4) \n",
    "        output_variables.append(outputv)\n",
    "        input_variables.append(inputv)\n",
    "    return input_variables, output_variables\n",
    "\n",
    "\n",
    "def CSVWriter(outputfile, row):\n",
    "    csvfile = open(outputfile, 'a+')\n",
    "    writer = csv.writer(csvfile)\n",
    "    writer.writerows(row)\n",
    "    csvfile.close()"
   ]
  },
  {
   "cell_type": "code",
   "execution_count": 3,
   "metadata": {},
   "outputs": [],
   "source": [
    "input_file = '/media/tpc2/DATA/chemical_data/2nd round/input_file.csv'\n",
    "output_file = '/media/tpc2/DATA/chemical_data/2nd round/output_file.csv'\n",
    "\n",
    "sheet1_rows = read_excel(file)\n",
    "\n",
    "# saving sheet1 to csv\n",
    "inn, outt = input_output_spliter(sheet1_rows)\n",
    "CSVWriter(input_file, inn)\n",
    "CSVWriter(output_file, outt)"
   ]
  },
  {
   "cell_type": "code",
   "execution_count": 4,
   "metadata": {},
   "outputs": [
    {
     "data": {
      "text/plain": [
       "[u'Lance Air',\n",
       " u'Lance Oxygen',\n",
       " u'Actual Moisture 1',\n",
       " u'Actual Moisture 2',\n",
       " u'Actual Conc 1 %',\n",
       " u'Actual Feed',\n",
       " u'Moisture 1 E',\n",
       " u'Moisture 2 E',\n",
       " u'Conc blend E',\n",
       " u'Feed E',\n",
       " u'Moisture 1 AF',\n",
       " u'Moisture 2 AF',\n",
       " u'Blend AF',\n",
       " u'Feed AF']"
      ]
     },
     "execution_count": 4,
     "metadata": {},
     "output_type": "execute_result"
    }
   ],
   "source": [
    "sheet1_rows[0][18:32]"
   ]
  },
  {
   "cell_type": "code",
   "execution_count": 5,
   "metadata": {},
   "outputs": [
    {
     "data": {
      "text/plain": [
       "[u'Lance Air',\n",
       " u'Lance Oxygen',\n",
       " u'Actual Moisture 1',\n",
       " u'Actual Moisture 2',\n",
       " u'Actual Conc 1 %',\n",
       " u'Actual Feed',\n",
       " 'T',\n",
       " 'i',\n",
       " 'm',\n",
       " 'e',\n",
       " u'Moisture 1 AF',\n",
       " u'Moisture 2 AF',\n",
       " u'Blend AF',\n",
       " u'Feed AF']"
      ]
     },
     "execution_count": 5,
     "metadata": {},
     "output_type": "execute_result"
    }
   ],
   "source": [
    "inn[0]"
   ]
  },
  {
   "cell_type": "code",
   "execution_count": null,
   "metadata": {},
   "outputs": [],
   "source": []
  }
 ],
 "metadata": {
  "kernelspec": {
   "display_name": "Python 2",
   "language": "python",
   "name": "python2"
  },
  "language_info": {
   "codemirror_mode": {
    "name": "ipython",
    "version": 2
   },
   "file_extension": ".py",
   "mimetype": "text/x-python",
   "name": "python",
   "nbconvert_exporter": "python",
   "pygments_lexer": "ipython2",
   "version": "2.7.16"
  }
 },
 "nbformat": 4,
 "nbformat_minor": 2
}
