{
 "cells": [
  {
   "cell_type": "code",
   "execution_count": 1,
   "metadata": {},
   "outputs": [],
   "source": [
    "import os\n",
    "import csv\n",
    "import time\n",
    "import datetime\n",
    "from tqdm import tqdm\n",
    "import numpy as np\n",
    "from itertools import islice"
   ]
  },
  {
   "cell_type": "code",
   "execution_count": 2,
   "metadata": {},
   "outputs": [],
   "source": [
    "def CSVWriter(outputfile, row):\n",
    "    csvfile = open(outputfile, 'a+')\n",
    "    writer = csv.writer(csvfile)\n",
    "    writer.writerows(row)\n",
    "    csvfile.close()\n",
    "    \n",
    "def getTimeDiff(timeStra, timeStrb):\n",
    "    if timeStra==timeStrb:\n",
    "        return 0\n",
    "    ta = time.strptime(timeStra, \"%Y-%m-%d %H:%M:%S\")\n",
    "    tb = time.strptime(timeStrb, \"%Y-%m-%d %H:%M:%S\")\n",
    "    y,m,d,H,M,S = ta[0:6]\n",
    "    dataTimea=datetime.datetime(y,m,d,H,M,S)\n",
    "    y,m,d,H,M,S = tb[0:6]\n",
    "    dataTimeb=datetime.datetime(y,m,d,H,M,S)\n",
    "    secondsDiff=(dataTimeb-dataTimea).seconds\n",
    "    return secondsDiff\n",
    "    \n",
    "def pepa_accerlation(input_file, output_file, timestep, initial_time = '2018-10-25 21:00:00'):\n",
    "    results = []\n",
    "    with open(input_file) as fin:\n",
    "        reader = csv.reader(fin)\n",
    "        headers = reader.next()\n",
    "        reader.next()\n",
    "        reader.next()  # skip the header\n",
    "        time1 = initial_time\n",
    "        x = []\n",
    "        y = []\n",
    "        z = []\n",
    "        for record in reader:\n",
    "            record_dict = dict(zip(headers, record))\n",
    "            if getTimeDiff(record_dict[\"time\"], time1) < timestep:\n",
    "                x.append(float(record_dict[\"pepa_acc_x\"]))\n",
    "                y.append(float(record_dict[\"pepa_acc_y\"]))\n",
    "                z.append(float(record_dict[\"pepa_acc_z\"]))\n",
    "                time1 = record_dict[\"time\"]\n",
    "            elif getTimeDiff(record_dict[\"time\"], time1) >= timestep:\n",
    "                sub_result = []\n",
    "                sub_result.append(np.mean(x))\n",
    "                sub_result.append(np.mean(y))\n",
    "                sub_result.append(np.mean(z))\n",
    "                sub_result.append(time1)\n",
    "                results.append(sub_result)\n",
    "                del x[:]\n",
    "                del y[:]\n",
    "                del z[:]\n",
    "                x.append(float(record_dict[\"pepa_acc_x\"]))\n",
    "                y.append(float(record_dict[\"pepa_acc_y\"]))\n",
    "                z.append(float(record_dict[\"pepa_acc_z\"]))\n",
    "                time1 = record_dict[\"time\"]\n",
    "#     CSVWriter(output_file, ['pepa_acc_x', 'pepa_acc_y', 'pepa_acc_z', 'time'])\n",
    "#     CSVWriter(output_file, ['float', 'float', 'float', 'datetime'])\n",
    "#     CSVWriter(output_file, ['', '', '', 'T'])\n",
    "    CSVWriter(output_file, results)"
   ]
  },
  {
   "cell_type": "code",
   "execution_count": 3,
   "metadata": {},
   "outputs": [],
   "source": [
    "pepa_accerlation('..\\\\data\\\\pepa_acc.csv', '..\\\\data\\\\pepa_acc_timestep1.csv', 1)"
   ]
  },
  {
   "cell_type": "code",
   "execution_count": null,
   "metadata": {},
   "outputs": [],
   "source": []
  }
 ],
 "metadata": {
  "kernelspec": {
   "display_name": "Python 2",
   "language": "python",
   "name": "python2"
  },
  "language_info": {
   "codemirror_mode": {
    "name": "ipython",
    "version": 2
   },
   "file_extension": ".py",
   "mimetype": "text/x-python",
   "name": "python",
   "nbconvert_exporter": "python",
   "pygments_lexer": "ipython2",
   "version": "2.7.16"
  }
 },
 "nbformat": 4,
 "nbformat_minor": 2
}
